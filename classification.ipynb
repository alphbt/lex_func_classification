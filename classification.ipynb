{
 "cells": [
  {
   "cell_type": "code",
   "execution_count": 1,
   "metadata": {},
   "outputs": [],
   "source": [
    "%%capture --no-display\n",
    "%pip install 'transformers[sentencepiece]'\n",
    "%pip install 'transformers[torch]'\n",
    "%pip install accelerate -U\n",
    "%pip install matplotlib\n",
    "%pip install torch\n",
    "%pip install -U scikit-learn"
   ]
  },
  {
   "cell_type": "code",
   "execution_count": 13,
   "metadata": {},
   "outputs": [],
   "source": [
    "import pandas as pd\n",
    "import matplotlib.pyplot as plt\n",
    "from transformers import pipeline, TrainingArguments, Trainer, AdamW, get_linear_schedule_with_warmup, BertForSequenceClassification, BertTokenizer\n",
    "from sklearn.preprocessing import LabelEncoder\n",
    "from sklearn.model_selection import train_test_split\n",
    "from torch.utils.data import Dataset, DataLoader\n",
    "import torch\n",
    "import numpy as np\n",
    "from sklearn.utils.class_weight import compute_class_weight\n",
    "import os\n",
    "from BertClassifier import BertClassifier"
   ]
  },
  {
   "cell_type": "code",
   "execution_count": 4,
   "metadata": {},
   "outputs": [],
   "source": [
    "triplets_path = f'{os.getcwd()}/triplets'"
   ]
  },
  {
   "cell_type": "code",
   "execution_count": 5,
   "metadata": {},
   "outputs": [],
   "source": [
    "lexical_functions = ['_ANTIBON', '_ANTIMAGN', '_ANTIVER', '_BON', '_MAGN', '_OPER1', '_OPER2', '_VER']"
   ]
  },
  {
   "cell_type": "code",
   "execution_count": 6,
   "metadata": {},
   "outputs": [],
   "source": [
    "triplets = {}\n",
    "\n",
    "for lf in lexical_functions:\n",
    "    triplets[lf] = pd.read_csv(f'{triplets_path}/{lf}.csv')"
   ]
  },
  {
   "cell_type": "code",
   "execution_count": 7,
   "metadata": {},
   "outputs": [
    {
     "data": {
      "text/plain": [
       "<BarContainer object of 8 artists>"
      ]
     },
     "execution_count": 7,
     "metadata": {},
     "output_type": "execute_result"
    },
    {
     "data": {
      "image/png": "[encoded data removed]",
      "text/plain": [
       "<Figure size 1000x500 with 1 Axes>"
      ]
     },
     "metadata": {},
     "output_type": "display_data"
    }
   ],
   "source": [
    "fig = plt.figure(figsize = (10, 5))\n",
    "\n",
    "plt.bar(lexical_functions, [len(triplets[lf]) for lf in lexical_functions], width=1, edgecolor=\"white\", linewidth=0.7)"
   ]
  },
  {
   "cell_type": "code",
   "execution_count": 8,
   "metadata": {},
   "outputs": [],
   "source": [
    "dataset = pd.concat([triplets[lf] for lf in lexical_functions]).dropna()"
   ]
  },
  {
   "cell_type": "code",
   "execution_count": 9,
   "metadata": {},
   "outputs": [],
   "source": [
    "label_encoder = LabelEncoder()\n",
    "encoder = label_encoder.fit(lexical_functions)\n",
    "target = encoder.transform(dataset['function'].values)\n",
    "classes = encoder.transform(lexical_functions)"
   ]
  },
  {
   "cell_type": "code",
   "execution_count": 10,
   "metadata": {},
   "outputs": [],
   "source": [
    "def train_val_test_split(X, y, train_size, val_size, test_size):\n",
    "    X_train_val, X_test, y_train_val, y_test = train_test_split(X, y, test_size = test_size, stratify=y)\n",
    "    relative_train_size = train_size / (val_size + train_size)\n",
    "    X_train, X_val, y_train, y_val = train_test_split(X_train_val, y_train_val,\n",
    "                                                      train_size = relative_train_size, test_size = 1-relative_train_size, stratify=y_train_val)\n",
    "    return X_train, X_val, X_test, y_train, y_val, y_test"
   ]
  },
  {
   "cell_type": "code",
   "execution_count": 11,
   "metadata": {},
   "outputs": [],
   "source": [
    "X = dataset.drop(['function'], axis=1)\n",
    "y = dataset['function']"
   ]
  },
  {
   "cell_type": "code",
   "execution_count": 12,
   "metadata": {},
   "outputs": [],
   "source": [
    "train_ratio = 0.60\n",
    "validation_ratio = 0.10\n",
    "test_ratio = 0.30\n",
    "\n",
    "\n",
    "X_train, X_val, X_test, y_train, y_val, y_test = train_val_test_split(X, y, train_ratio, validation_ratio, test_ratio)"
   ]
  },
  {
   "cell_type": "code",
   "execution_count": 14,
   "metadata": {},
   "outputs": [
    {
     "name": "stderr",
     "output_type": "stream",
     "text": [
      "Some weights of BertForSequenceClassification were not initialized from the model checkpoint at sberbank-ai/ruBert-base and are newly initialized: ['classifier.bias', 'classifier.weight']\n",
      "You should probably TRAIN this model on a down-stream task to be able to use it for predictions and inference.\n"
     ]
    }
   ],
   "source": [
    "model = BertClassifier(model_path='sberbank-ai/ruBert-base',\n",
    "                       tokenizer_path='sberbank-ai/ruBert-base',\n",
    "                       max_len=256,\n",
    "                       label_encoder=encoder,\n",
    "                       n_classes=len(lexical_functions),\n",
    "                       epochs=5,\n",
    "                       batch_size=4,\n",
    "                       model_save_path=f'{os.getcwd()}/model/ruBert_lf.pt')"
   ]
  },
  {
   "cell_type": "code",
   "execution_count": 15,
   "metadata": {},
   "outputs": [
    {
     "name": "stderr",
     "output_type": "stream",
     "text": [
      "/home/dary/.local/lib/python3.11/site-packages/transformers/optimization.py:411: FutureWarning: This implementation of AdamW is deprecated and will be removed in a future version. Use the PyTorch implementation torch.optim.AdamW instead, or set `no_deprecation_warning=True` to disable this warning\n",
      "  warnings.warn(\n"
     ]
    }
   ],
   "source": [
    "model.prepare(X_train, y_train, X_val, y_val)"
   ]
  },
  {
   "cell_type": "code",
   "execution_count": 16,
   "metadata": {},
   "outputs": [
    {
     "name": "stdout",
     "output_type": "stream",
     "text": [
      "Epoch 1/5\n"
     ]
    }
   ],
   "source": [
    "model.train()"
   ]
  },
  {
   "cell_type": "code",
   "execution_count": null,
   "metadata": {},
   "outputs": [],
   "source": [
    "model_bert = BertClassifier(model_path='google-bert/bert-base-multilingual-cased',\n",
    "                       tokenizer_path='google-bert/bert-base-multilingual-cased',\n",
    "                       max_len=256,\n",
    "                       label_encoder=encoder,\n",
    "                       n_classes=len(lexical_functions),\n",
    "                       epochs=5,\n",
    "                       batch_size=4,\n",
    "                       model_save_path=f'{os.getcwd()}/model/bert_lf.pt')"
   ]
  },
  {
   "cell_type": "code",
   "execution_count": null,
   "metadata": {},
   "outputs": [],
   "source": [
    "model_bert.prepare(X_train, y_train, X_val, y_val)"
   ]
  },
  {
   "cell_type": "code",
   "execution_count": null,
   "metadata": {},
   "outputs": [],
   "source": [
    "model_bert.train()"
   ]
  }
 ],
 "metadata": {
  "kernelspec": {
   "display_name": "base",
   "language": "python",
   "name": "python3"
  },
  "language_info": {
   "codemirror_mode": {
    "name": "ipython",
    "version": 3
   },
   "file_extension": ".py",
   "mimetype": "text/x-python",
   "name": "python",
   "nbconvert_exporter": "python",
   "pygments_lexer": "ipython3",
   "version": "3.11.5"
  }
 },
 "nbformat": 4,
 "nbformat_minor": 2
}
